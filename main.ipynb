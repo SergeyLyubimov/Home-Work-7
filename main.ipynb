{
 "cells": [
  {
   "cell_type": "markdown",
   "id": "bd3d5314-3d0a-4055-b474-c45145ccb4a5",
   "metadata": {},
   "source": [
    "# Задание 1\n",
    "Требуется параллельно (насколько возможно с помощью потоков) выполнить вычисления по формуле 1, вычисления по формуле 2. Затем выполнить вычисления по формуле 3, которые выглядят следующим образом: результат вычислений 1 + результат вычислений 2.\n",
    "\n",
    "Выполнить последовательно на 10 000 итераций и 100 000 итераций.\n",
    "\n",
    "Формула 1: f(x) = x^2-x^2+x4-x5+x+x\n",
    "\n",
    "Формула 2: f(x) = x+x\n",
    "\n",
    "Вывести длительность выполнения всех 10 000 итераций и 100 000 итераций в секундах в разбивке по шагам вычислений 1, 2 и 3."
   ]
  },
  {
   "cell_type": "code",
   "execution_count": 19,
   "id": "1f73d5d4-c34d-4d73-be98-71ab4606a3db",
   "metadata": {},
   "outputs": [],
   "source": [
    "import threading\n",
    "import time"
   ]
  },
  {
   "cell_type": "code",
   "execution_count": 44,
   "id": "6fd28eac-10a9-4d98-9210-13a092bbc8cc",
   "metadata": {},
   "outputs": [],
   "source": [
    "def ft1(x, start_time, total_time, result, string):\n",
    "    result['f1'] = (x ** 2) - (x ** 2) + (x * 4) - (x * 5) + x + x\n",
    "    string['f1'] = f\"\\tШаг 1 - {time.time() - start_time}s | {time.time() - total_time}s\\n\"\n",
    "\n",
    "def ft2(x, start_time, total_time, result, string):\n",
    "    result['f2'] = x + x\n",
    "    string['f2'] = f\"\\tШаг 2 - {time.time() - start_time}s | {time.time() - total_time}s\\n\"\n",
    "\n",
    "def ft3(x1, x2, start_time, total_time, result, string):\n",
    "    result['f3'] = x1 + x2\n",
    "    string['f3'] = f\"\\tШаг 3 - {time.time() - start_time}s | {time.time() - total_time}s\\n\""
   ]
  },
  {
   "cell_type": "code",
   "execution_count": 49,
   "id": "cb7d4412-ed27-4f5e-9534-ce885034b737",
   "metadata": {},
   "outputs": [],
   "source": [
    "total_time = time.time()\n",
    "with open('1_1.txt', 'w', encoding='UTF-8') as file:\n",
    "    for i in range(10000):\n",
    "        start_time = time.time()\n",
    "        string = {'s': f\"Итерация {i + 1}\\n\"}\n",
    "        result = {}\n",
    "        t1 = threading.Thread(target=ft1, args=[i, start_time, total_time, result, string])\n",
    "        t2 = threading.Thread(target=ft2, args=[i, start_time, total_time, result, string])\n",
    "    \n",
    "        t1.start()\n",
    "        t2.start()\n",
    "    \n",
    "        t1.join()\n",
    "        t2.join()\n",
    "    \n",
    "        ft3(result['f1'], result['f2'], start_time, total_time, result, string)\n",
    "        file.writelines([string['s'], string['f1'], string['f2'], string['f3']])"
   ]
  },
  {
   "cell_type": "code",
   "execution_count": 52,
   "id": "e558e258-30d2-4f59-9066-923904ef3113",
   "metadata": {},
   "outputs": [],
   "source": [
    "total_time = time.time()\n",
    "with open('1_2.txt', 'w', encoding='UTF-8') as file:\n",
    "    for i in range(100000):\n",
    "        start_time = time.time()\n",
    "        string = {'s': f\"Итерация {i + 1}\\n\"}\n",
    "        result = {}\n",
    "        t1 = threading.Thread(target=ft1, args=[i, start_time, total_time, result, string])\n",
    "        t2 = threading.Thread(target=ft2, args=[i, start_time, total_time, result, string])\n",
    "    \n",
    "        t1.start()\n",
    "        t2.start()\n",
    "    \n",
    "        t1.join()\n",
    "        t2.join()\n",
    "    \n",
    "        ft3(result['f1'], result['f2'], start_time, total_time, result, string)\n",
    "        file.writelines([string['s'], string['f1'], string['f2'], string['f3']])"
   ]
  },
  {
   "cell_type": "markdown",
   "id": "1cda05f1-8ffb-49ba-80bb-3103dec53739",
   "metadata": {},
   "source": [
    "# Задание 2 (необязательное)\n",
    "Требуется параллельно (насколько возможно с помощью процессов) выполнить вычисления по формуле 1, вычисления по формуле 2. Затем выполнить вычисления по формуле 3, которые выглядят следующим образом: результат вычислений 1 + результат вычислений 2.\n",
    "\n",
    "Выполнить последовательно на 10 000 итераций и 100 000 итераций.\n",
    "\n",
    "Формула 1: f(x) = x^2-x^2+x4-x5+x+x\n",
    "\n",
    "Формула 2: f(x) = x+x\n",
    "\n",
    "Вывести длительность выполнения всех 10 000 итераций и 100 000 итераций в секундах в разбивке по шагам вычислений 1, 2 и 3."
   ]
  },
  {
   "cell_type": "code",
   "execution_count": 53,
   "id": "39860456-4e83-4304-822f-585f3c9d070d",
   "metadata": {},
   "outputs": [],
   "source": [
    "import multiprocessing\n",
    "import time"
   ]
  },
  {
   "cell_type": "code",
   "execution_count": 56,
   "id": "f7ec23fa-fc30-4741-a4e7-b0d12b51f95f",
   "metadata": {},
   "outputs": [],
   "source": [
    "def fp1(x, start_time, total_time, q1, q2):\n",
    "    q1.put((x ** 2) - (x ** 2) + (x * 4) - (x * 5) + x + x)\n",
    "    q2.put(f\"\\tШаг 1 - {time.time() - start_time}s | {time.time() - total_time}s\\n\")\n",
    "\n",
    "def fp2(x, start_time, total_time, q1, q2):\n",
    "    q1.put(x + x)\n",
    "    q2.put(f\"\\tШаг 2 - {time.time() - start_time}s | {time.time() - total_time}s\\n\")\n",
    "\n",
    "def fp3(x1, x2, start_time, total_time, q1, q2):\n",
    "    q1.put(x1 + x2)\n",
    "    q2.put(f\"\\tШаг 3 - {time.time() - start_time}s | {time.time() - total_time}s\\n\")"
   ]
  },
  {
   "cell_type": "markdown",
   "id": "d405cc63-f55a-45eb-a821-cb7a901dcc03",
   "metadata": {},
   "source": [
    "Чисто теоретически они могут завершиться но это займет очень много времени. И в Anaconda они вообще не работают"
   ]
  },
  {
   "cell_type": "code",
   "execution_count": null,
   "id": "da737d5b-d1e3-4e8d-9076-61e9c6ecef80",
   "metadata": {},
   "outputs": [],
   "source": [
    "if __name__ == '__main__':\n",
    "    total_time = time.time()\n",
    "    with open('2_1.txt', 'w', encoding='UTF-8') as file:\n",
    "        for i in range(10000):\n",
    "            start_time = time.time()\n",
    "            q2 = multiprocessing.Queue()\n",
    "            q1 = multiprocessing.Queue()\n",
    "            p1 = multiprocessing.Process(target=fp1, args=[i, start_time, total_time, q1, q2])\n",
    "            p2 = multiprocessing.Process(target=fp2, args=[i, start_time, total_time, q1, q2])\n",
    "\n",
    "            p1.start()\n",
    "            p2.start()\n",
    "\n",
    "            p1.join()\n",
    "            p2.join()\n",
    "\n",
    "            fp3(q1.get(), q1.get(), start_time, total_time, q1, q2)\n",
    "            file.writelines(reversed([q2.get(), q2.get(), q2.get(), f\"Итерация {i + 1}\\n\"]))"
   ]
  },
  {
   "cell_type": "code",
   "execution_count": null,
   "id": "53720b84-6343-423e-872b-37108ea40190",
   "metadata": {},
   "outputs": [],
   "source": [
    "if __name__ == '__main__':\n",
    "    total_time = time.time()\n",
    "    with open('2_2.txt', 'w', encoding='UTF-8') as file:\n",
    "        for i in range(100000):\n",
    "            start_time = time.time()\n",
    "            q2 = multiprocessing.Queue()\n",
    "            q1 = multiprocessing.Queue()\n",
    "            p1 = multiprocessing.Process(target=fp1, args=[i, start_time, total_time, q1, q2])\n",
    "            p2 = multiprocessing.Process(target=fp2, args=[i, start_time, total_time, q1, q2])\n",
    "\n",
    "            p1.start()\n",
    "            p2.start()\n",
    "\n",
    "            p1.join()\n",
    "            p2.join()\n",
    "\n",
    "            fp3(q1.get(), q1.get(), start_time, total_time, q1, q2)\n",
    "            file.writelines(reversed([q2.get(), q2.get(), q2.get(), f\"Итерация {i + 1}\\n\"]))"
   ]
  },
  {
   "cell_type": "markdown",
   "id": "cf21cf05-d7d1-4f29-88a7-1dd7ec866c2b",
   "metadata": {},
   "source": [
    "В итоге самое большее времени занимает print или же write всех длительностей"
   ]
  }
 ],
 "metadata": {
  "kernelspec": {
   "display_name": "Python 3 (ipykernel)",
   "language": "python",
   "name": "python3"
  },
  "language_info": {
   "codemirror_mode": {
    "name": "ipython",
    "version": 3
   },
   "file_extension": ".py",
   "mimetype": "text/x-python",
   "name": "python",
   "nbconvert_exporter": "python",
   "pygments_lexer": "ipython3",
   "version": "3.12.7"
  }
 },
 "nbformat": 4,
 "nbformat_minor": 5
}
